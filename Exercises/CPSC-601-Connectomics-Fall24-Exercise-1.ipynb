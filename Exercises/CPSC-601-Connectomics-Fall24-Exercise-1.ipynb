{
 "cells": [
  {
   "cell_type": "markdown",
   "id": "ce3dc839",
   "metadata": {},
   "source": [
    "# CPSC 601 Connectomics Fall 2024: Exercise 1\n",
    "\n",
    "Complete the below exercises and hand-in to the Dropbox folder by 23:59pm Friday 27th September. Please submit both a pdf format (with all your code clearly visible) and an ipynb format. \n",
    "\n",
    "You will not be graded on code 'quality', optimization, etc. You will be graded on: does it work properly, do you understand what it means.\n",
    "\n",
    "You may use any code from class and refer to any outside resources (excepting AI tools), as long as you reference them appropriately. \n",
    "\n",
    "Interpretation is a fundamental part of analysis - nowhere should you just provide a number or distibution without commenting on what you can learn from it."
   ]
  },
  {
   "cell_type": "markdown",
   "id": "7c169d10",
   "metadata": {},
   "source": [
    "You have been given a weighted undirected network representation of the C. elegans nervous system. The nodes are neurons, and the edges correspond to synaptic connections between two neurons. Weights correspond to number of synapses, and the direction of connection is ignored. In this exercise you will explore the three central measures in network science - degree distribution, clustering, and path length - and consider their extensions to weighted networks."
   ]
  },
  {
   "cell_type": "markdown",
   "id": "9c47a79b",
   "metadata": {},
   "source": [
    "## Q1: Degree, weight, and strength (15 marks)\n",
    "Plot:\n",
    "- (a) The degree distibution;\n",
    "- (b) The edge weight distribution;\n",
    "- (c) The strength distribution. \n",
    "\n",
    "What do you observe? Is this surprising or expected?"
   ]
  },
  {
   "cell_type": "code",
   "execution_count": null,
   "id": "775054ff",
   "metadata": {},
   "outputs": [],
   "source": []
  },
  {
   "cell_type": "code",
   "execution_count": null,
   "id": "41e4aedc",
   "metadata": {},
   "outputs": [],
   "source": []
  },
  {
   "cell_type": "markdown",
   "id": "acec39c2",
   "metadata": {},
   "source": [
    "## Q2: Binary metrics (30 marks)\n",
    "\n",
    "In this question, ignore the weights on the edges and treat the network as if it were binary. \n",
    "\n",
    "Calculate (a) the average clustering coefficient; and (b) the average shortest path length for the binarized network representing the C. elegans nervous system. (4 marks)"
   ]
  },
  {
   "cell_type": "code",
   "execution_count": null,
   "id": "02c9ea34",
   "metadata": {},
   "outputs": [],
   "source": []
  },
  {
   "cell_type": "code",
   "execution_count": null,
   "id": "c1328964",
   "metadata": {},
   "outputs": [],
   "source": []
  },
  {
   "cell_type": "markdown",
   "id": "45b032fb",
   "metadata": {},
   "source": [
    "Can we say anything about these numbers? Not really - we need a reference system to compare to. Generate an ensemble of 100 comparable random ER graphs, and calculate both the average clustering and average shortest path length. (4 marks)"
   ]
  },
  {
   "cell_type": "code",
   "execution_count": null,
   "id": "e1120b7a",
   "metadata": {},
   "outputs": [],
   "source": []
  },
  {
   "cell_type": "code",
   "execution_count": null,
   "id": "eae6b27a",
   "metadata": {},
   "outputs": [],
   "source": []
  },
  {
   "cell_type": "markdown",
   "id": "13318957",
   "metadata": {},
   "source": [
    "Now, generate an ensemble of 100 random graphs through degree-preserving (DP) double edge swaps, and calculate both the average clustering and average shortest path length. (6 marks)"
   ]
  },
  {
   "cell_type": "code",
   "execution_count": null,
   "id": "47751086",
   "metadata": {},
   "outputs": [],
   "source": []
  },
  {
   "cell_type": "code",
   "execution_count": null,
   "id": "9ce12b95",
   "metadata": {},
   "outputs": [],
   "source": []
  },
  {
   "cell_type": "markdown",
   "id": "81a0b8ce",
   "metadata": {},
   "source": [
    "Show your results as box plots - one for average clustering, and one for the average path length. Include the ER graphs, the DP graphs, and points for the real values observed in the C. elegans network. (10 marks)"
   ]
  },
  {
   "cell_type": "code",
   "execution_count": null,
   "id": "64097c8f",
   "metadata": {},
   "outputs": [],
   "source": []
  },
  {
   "cell_type": "code",
   "execution_count": null,
   "id": "6d8086c2",
   "metadata": {},
   "outputs": [],
   "source": []
  },
  {
   "cell_type": "markdown",
   "id": "58d5bd4f",
   "metadata": {},
   "source": [
    "What can you say about clustering and path length in C. elegans now? (6 marks)"
   ]
  },
  {
   "cell_type": "code",
   "execution_count": null,
   "id": "a6eb2c6b",
   "metadata": {},
   "outputs": [],
   "source": []
  },
  {
   "cell_type": "markdown",
   "id": "a90eae95",
   "metadata": {},
   "source": [
    "## Q3: Weighted metrics (45 marks)\n",
    "\n",
    "Return to your original weighted graph. Both the average clustering coefficient and the average shortest path length generalize to weighted networks - calculate the average weighted clustering coefficient for the C. elegans network. (2 marks)\n",
    "\n",
    "Hint: Networkx can use the weights if you instruct it to https://networkx.org/documentation/stable/reference/algorithms/generated/networkx.algorithms.cluster.clustering.html\n"
   ]
  },
  {
   "cell_type": "code",
   "execution_count": null,
   "id": "d85c7cea",
   "metadata": {},
   "outputs": [],
   "source": []
  },
  {
   "cell_type": "code",
   "execution_count": null,
   "id": "cafbaa82",
   "metadata": {},
   "outputs": [],
   "source": []
  },
  {
   "cell_type": "markdown",
   "id": "2d4d936f",
   "metadata": {},
   "source": [
    "As you move to consider the weighted average shortest path length, think about what you want the edge weights to mean - a greater weight means a greater number of synapses, and therefore a stronger connection. You will need to choose an appropriate method to invert the edge weights. Implement such an inversion, and then calculate the weighted average shortest path length. (10 marks)"
   ]
  },
  {
   "cell_type": "code",
   "execution_count": null,
   "id": "2f51ec88",
   "metadata": {},
   "outputs": [],
   "source": []
  },
  {
   "cell_type": "code",
   "execution_count": null,
   "id": "3292914b",
   "metadata": {},
   "outputs": [],
   "source": []
  },
  {
   "cell_type": "markdown",
   "id": "1d778892",
   "metadata": {},
   "source": [
    "What do these numbers mean? Just as with the binary metrics, you now need to compare to a reference system. Again use two null models. For the first, implement a degree preserving double edge swap randomization (don't worry but do note that this does not preserve strength). For the second, fix the edges where they are and randomly shuffle the weights. (15 marks)"
   ]
  },
  {
   "cell_type": "code",
   "execution_count": null,
   "id": "bbbd4d1b",
   "metadata": {},
   "outputs": [],
   "source": []
  },
  {
   "cell_type": "code",
   "execution_count": null,
   "id": "c4a5856e",
   "metadata": {},
   "outputs": [],
   "source": []
  },
  {
   "cell_type": "markdown",
   "id": "a11d068a",
   "metadata": {},
   "source": [
    "Create similar boxplots as in Q2, one for the weighted average clustering coefficient and one for the weighted average shortest path. (10 marks)"
   ]
  },
  {
   "cell_type": "code",
   "execution_count": null,
   "id": "c1680f5c",
   "metadata": {},
   "outputs": [],
   "source": []
  },
  {
   "cell_type": "code",
   "execution_count": null,
   "id": "3510c14a",
   "metadata": {},
   "outputs": [],
   "source": []
  },
  {
   "cell_type": "markdown",
   "id": "c87bfa5c",
   "metadata": {},
   "source": [
    "Interpret your findings - what can you say about weighted clustering and weighted average shortest path in C. elegans? (8 marks)"
   ]
  },
  {
   "cell_type": "code",
   "execution_count": null,
   "id": "ad312447",
   "metadata": {},
   "outputs": [],
   "source": []
  },
  {
   "cell_type": "code",
   "execution_count": null,
   "id": "dc7a2657",
   "metadata": {},
   "outputs": [],
   "source": []
  }
 ],
 "metadata": {
  "kernelspec": {
   "display_name": "Python 3",
   "language": "python",
   "name": "python3"
  },
  "language_info": {
   "codemirror_mode": {
    "name": "ipython",
    "version": 3
   },
   "file_extension": ".py",
   "mimetype": "text/x-python",
   "name": "python",
   "nbconvert_exporter": "python",
   "pygments_lexer": "ipython3",
   "version": "3.8.8"
  }
 },
 "nbformat": 4,
 "nbformat_minor": 5
}
