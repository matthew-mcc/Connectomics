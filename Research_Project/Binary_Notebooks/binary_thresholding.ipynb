{
 "cells": [
  {
   "cell_type": "markdown",
   "metadata": {},
   "source": [
    "__Imports__"
   ]
  },
  {
   "cell_type": "code",
   "execution_count": null,
   "metadata": {},
   "outputs": [],
   "source": [
    "import numpy as np\n",
    "import networkx as nx\n",
    "import matplotlib.pyplot as plt\n",
    "\n",
    "from nilearn.image import load_img\n",
    "from nilearn.plotting import find_parcellation_cut_coords\n",
    "\n",
    "import pandas as pd"
   ]
  },
  {
   "cell_type": "code",
   "execution_count": null,
   "metadata": {},
   "outputs": [],
   "source": [
    "\n",
    "def FileToMatrix(fileName):\n",
    "    '''\n",
    "    Function to load a particular time series, and generate a matrix for it!\n",
    "    '''\n",
    "    data = np.loadtxt(fileName)\n",
    "    correlationMatrix = np.corrcoef(data.T) # need to transpose (I think for all?)\n",
    "    np.fill_diagonal(correlationMatrix, 0) # remove leading zeros\n",
    "    \n",
    "    return correlationMatrix\n",
    "    "
   ]
  },
  {
   "cell_type": "code",
   "execution_count": null,
   "metadata": {},
   "outputs": [],
   "source": [
    "def LoadAtlas(fileName):\n",
    "    '''\n",
    "    Simple function to load an atlas, and return coords.\n",
    "    '''\n",
    "    \n",
    "    atlasImg = load_img(fileName)\n",
    "    coords = find_parcellation_cut_coords(atlasImg)\n",
    "    return coords"
   ]
  },
  {
   "cell_type": "code",
   "execution_count": null,
   "metadata": {},
   "outputs": [],
   "source": [
    "def PercentageThresholding(correlationMatrix, percentageToKeep):\n",
    "    '''\n",
    "    Function to apply a percentage based thresholding, returns new adjacency matrix\n",
    "    '''\n",
    "    \n",
    "    # Flatten the matrix, sort the values in descending order\n",
    "    sortedValues = np.sort(correlationMatrix.flatten())[::-1]\n",
    "    \n",
    "    # Determine the thresholded value based on percentage (how many elements to keep)\n",
    "    numElementsToKeep = int(len(sortedValues) * percentageToKeep)\n",
    "    thresholdValue = sortedValues[numElementsToKeep - 1]\n",
    "    \n",
    "    # Create a new adjacency matrix based on our thresholding\n",
    "    adjMatrix = np.zeros(correlationMatrix.shape, dtype=int) # int for binary\n",
    "    adjMatrix[correlationMatrix >= thresholdValue] = 1 # 1 if keeping, 0 if thresholded\n",
    "    \n",
    "    return adjMatrix\n",
    "    \n",
    "    "
   ]
  },
  {
   "cell_type": "code",
   "execution_count": null,
   "metadata": {},
   "outputs": [],
   "source": [
    "def OutputBrainNetViewer(nodeData, G, coords, outputNodeName, outputEdgeName, weighted=False):\n",
    "    '''\n",
    "    Formats data for Brain Net Viewer.\n",
    "    '''\n",
    "    # Add coordinates from atlas\n",
    "    \n",
    "    if weighted:\n",
    "        weightedDegrees = dict(G.degree(weight='weight'))\n",
    "    else:\n",
    "        weightedDegrees = dict(G.degree())\n",
    "    \n",
    "\n",
    "    nodeData['roi'] = nodeData.index\n",
    "    \n",
    "    nodeData['x'] = [coord[0] for coord in coords]\n",
    "    nodeData['y'] = [coord[1] for coord in coords]\n",
    "    nodeData['z'] = [coord[2] for coord in coords]\n",
    "    \n",
    "    nodeData['weightedDegree'] = nodeData.index.map(weightedDegrees)\n",
    "\n",
    "    # Save node file for Brain Net Viewer\n",
    "    nodeData[['x', 'y', 'z', 'roi', 'weightedDegree']].to_csv(outputNodeName, sep='\\t', index=False, header=False)\n",
    "\n",
    "    # Save adjacency matrix as .edge file\n",
    "    edge_matrix = nx.to_numpy_array(G)\n",
    "    np.savetxt(outputEdgeName, edge_matrix)"
   ]
  }
 ],
 "metadata": {
  "kernelspec": {
   "display_name": "Python 3",
   "language": "python",
   "name": "python3"
  },
  "language_info": {
   "name": "python",
   "version": "3.12.4"
  }
 },
 "nbformat": 4,
 "nbformat_minor": 2
}
