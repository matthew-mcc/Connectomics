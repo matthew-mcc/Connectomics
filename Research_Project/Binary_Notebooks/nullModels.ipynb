{
 "cells": [
  {
   "cell_type": "code",
   "execution_count": 28,
   "metadata": {},
   "outputs": [],
   "source": [
    "import numpy as np\n",
    "def randomize_binary_network(observed_matrix, preserve_degree=True, iterations=1000, seed=None):\n",
    "    \"\"\"\n",
    "    Randomizes a binary adjacency matrix while preserving its structure.\n",
    "\n",
    "    Parameters:\n",
    "    observed_matrix (np.ndarray): Binary adjacency matrix (NxN).\n",
    "    preserve_degree (bool): Whether to preserve the degree distribution.\n",
    "    iterations (int): Number of edge swaps to perform.\n",
    "    seed (int, optional): Random seed for reproducibility.\n",
    "\n",
    "    Returns:\n",
    "    np.ndarray: A randomized binary adjacency matrix.\n",
    "    \"\"\"\n",
    "    if seed is not None:\n",
    "        np.random.seed(seed)\n",
    "    \n",
    "    # Ensure the input matrix is binary\n",
    "    if not np.array_equal(observed_matrix, observed_matrix.astype(bool)):\n",
    "        raise ValueError(\"The observed matrix must be binary (0s and 1s).\")\n",
    "    \n",
    "    # Ensure symmetry for undirected networks\n",
    "    observed_matrix = np.triu(observed_matrix) + np.triu(observed_matrix, 1).T\n",
    "    randomized_matrix = observed_matrix.copy()\n",
    "\n",
    "    if preserve_degree:\n",
    "        # Get all edges (i, j) where i < j (upper triangular matrix)\n",
    "        edges = np.array(np.transpose(np.triu_indices_from(observed_matrix, k=1)))\n",
    "\n",
    "        # Perform edge swaps to randomize the network\n",
    "        for _ in range(iterations):\n",
    "            # Select two random edges to swap\n",
    "            idx1, idx2 = np.random.choice(len(edges), 2, replace=False)\n",
    "            a, b = edges[idx1]\n",
    "            c, d = edges[idx2]\n",
    "\n",
    "            # Ensure no duplicate edges or self-loops after rewiring\n",
    "            if len({a, b, c, d}) == 4 and randomized_matrix[a, d] == 0 and randomized_matrix[c, b] == 0:\n",
    "                # Swap edges: (a, b) with (c, d) -> (a, d) and (c, b)\n",
    "                randomized_matrix[a, b] = 0\n",
    "                randomized_matrix[b, a] = 0\n",
    "                randomized_matrix[c, d] = 0\n",
    "                randomized_matrix[d, c] = 0\n",
    "\n",
    "                randomized_matrix[a, d] = 1\n",
    "                randomized_matrix[d, a] = 1\n",
    "                randomized_matrix[c, b] = 1\n",
    "                randomized_matrix[b, c] = 1\n",
    "\n",
    "                # Update the edge list\n",
    "                edges[idx1] = [a, d]\n",
    "                edges[idx2] = [c, b]\n",
    "    else:\n",
    "        # Completely randomize connections while preserving density\n",
    "        num_edges = np.sum(np.triu(observed_matrix, k=1))  # Count total connections\n",
    "        randomized_matrix.fill(0)\n",
    "        \n",
    "        possible_edges = np.transpose(np.triu_indices_from(observed_matrix, k=1))\n",
    "        selected_edges = possible_edges[np.random.choice(len(possible_edges), num_edges, replace=False)]\n",
    "        \n",
    "        for edge in selected_edges:\n",
    "            i, j = edge\n",
    "            randomized_matrix[i, j] = 1\n",
    "            randomized_matrix[j, i] = 1  # Keep symmetry\n",
    "\n",
    "    return randomized_matrix\n"
   ]
  },
  {
   "cell_type": "code",
   "execution_count": 30,
   "metadata": {},
   "outputs": [
    {
     "name": "stdout",
     "output_type": "stream",
     "text": [
      "0.3879344905666128\n",
      "0.5189108251996218\n",
      "Avg Clustering\n",
      "0.5263222351187967\n",
      "0.3395925883340588\n"
     ]
    }
   ],
   "source": [
    "# Example observed correlation matrix (randomly generated for demonstration)\n",
    "\n",
    "file_path = R'C:\\GIT\\Connectomics\\Research_Project\\Binary_Notebooks\\Binary_Output\\10%\\Matrices\\Caltech_0051456_rois_cc400_mat.txt'\n",
    "\n",
    "observed_matrix = np.loadtxt(file_path)\n",
    "\n",
    "randomized_matrix = randomize_binary_network(observed_matrix, preserve_degree=True, iterations=1000, seed=42)\n",
    "import networkx as nx\n",
    "\n",
    "G_O = nx.from_numpy_array(observed_matrix)\n",
    "G_R = nx.from_numpy_array(randomized_matrix)\n",
    "\n",
    "\n",
    "print(nx.global_efficiency(G_O))\n",
    "print(nx.global_efficiency(G_R))\n",
    "\n",
    "print(\"Avg Clustering\")\n",
    "print(nx.average_clustering(G_O))\n",
    "print(nx.average_clustering(G_R))"
   ]
  }
 ],
 "metadata": {
  "kernelspec": {
   "display_name": "Python 3",
   "language": "python",
   "name": "python3"
  },
  "language_info": {
   "codemirror_mode": {
    "name": "ipython",
    "version": 3
   },
   "file_extension": ".py",
   "mimetype": "text/x-python",
   "name": "python",
   "nbconvert_exporter": "python",
   "pygments_lexer": "ipython3",
   "version": "3.12.4"
  }
 },
 "nbformat": 4,
 "nbformat_minor": 2
}
